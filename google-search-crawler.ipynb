{
 "cells": [
  {
   "cell_type": "code",
   "execution_count": 92,
   "metadata": {},
   "outputs": [],
   "source": [
    "from selenium import webdriver\n",
    "import pandas as pd\n",
    "from time import sleep"
   ]
  },
  {
   "cell_type": "code",
   "execution_count": 4,
   "metadata": {},
   "outputs": [],
   "source": [
    "driver = webdriver.Chrome('../chromedriver_win32/chromedriver.exe')"
   ]
  },
  {
   "cell_type": "code",
   "execution_count": 93,
   "metadata": {},
   "outputs": [],
   "source": [
    "def parse_single_page():\n",
    "    titles = driver.find_elements_by_css_selector('div.r > a > h3')\n",
    "    links = driver.find_elements_by_css_selector('div.r > a')\n",
    "    all_titles = []\n",
    "    all_links = []\n",
    "    for t in titles:\n",
    "        all_titles.append(t.text)\n",
    "    for a in links:\n",
    "        all_links.append(a.get_attribute(\"href\"))\n",
    "    return all_titles, all_links\n",
    "\n",
    "def parse_google_search_results(search_term, page=10, output_path='search_result.csv'):\n",
    "    url = 'https://www.google.com/webhp'\n",
    "    driver.get(url)\n",
    "    search_box = driver.find_element_by_name('q')\n",
    "    search_box.send_keys(search_term)\n",
    "    search_box.submit()\n",
    "    \n",
    "    all_titles = []\n",
    "    all_links = []\n",
    "    for i in range(1, page+1):\n",
    "        sleep(2)\n",
    "        titles, links = parse_single_page()\n",
    "        print(\"Parse page\", i)\n",
    "        all_titles.extend(titles)\n",
    "        all_links.extend(links)\n",
    "        \n",
    "        pages = driver.find_elements_by_css_selector('tbody > tr > td > a')\n",
    "        for p in pages:\n",
    "            if p.text == str(i + 2):\n",
    "                p.click()\n",
    "                break\n",
    "    df = pd.DataFrame({'title': all_titles, 'links': all_links})\n",
    "    df.to_csv(output_path, index=False)\n",
    "    \n",
    "    print(f\"Finish parsing, get {df.shape[0]} pages\")"
   ]
  },
  {
   "cell_type": "code",
   "execution_count": 94,
   "metadata": {},
   "outputs": [
    {
     "name": "stdout",
     "output_type": "stream",
     "text": [
      "Parse page 1\n",
      "Parse page 2\n",
      "Parse page 3\n",
      "Parse page 4\n",
      "Parse page 5\n",
      "Parse page 6\n",
      "Parse page 7\n",
      "Parse page 8\n",
      "Parse page 9\n",
      "Parse page 10\n",
      "Finish parsing, get 98 pages\n",
      "Parse page 1\n",
      "Parse page 2\n",
      "Parse page 3\n",
      "Parse page 4\n",
      "Parse page 5\n",
      "Parse page 6\n",
      "Parse page 7\n",
      "Parse page 8\n",
      "Parse page 9\n",
      "Parse page 10\n",
      "Finish parsing, get 99 pages\n"
     ]
    }
   ],
   "source": [
    "parse_google_search_results('\"邪典\" \"電影\"', output_path='邪典 電影.csv')\n",
    "parse_google_search_results('\"cult\" \"電影\"', output_path='cult 電影.csv')"
   ]
  }
 ],
 "metadata": {
  "kernelspec": {
   "display_name": "Python 3",
   "language": "python",
   "name": "python3"
  },
  "language_info": {
   "codemirror_mode": {
    "name": "ipython",
    "version": 3
   },
   "file_extension": ".py",
   "mimetype": "text/x-python",
   "name": "python",
   "nbconvert_exporter": "python",
   "pygments_lexer": "ipython3",
   "version": "3.7.3"
  },
  "toc": {
   "base_numbering": 1,
   "nav_menu": {},
   "number_sections": false,
   "sideBar": true,
   "skip_h1_title": false,
   "title_cell": "Table of Contents",
   "title_sidebar": "Contents",
   "toc_cell": false,
   "toc_position": {},
   "toc_section_display": true,
   "toc_window_display": false
  },
  "varInspector": {
   "cols": {
    "lenName": 16,
    "lenType": 16,
    "lenVar": 40
   },
   "kernels_config": {
    "python": {
     "delete_cmd_postfix": "",
     "delete_cmd_prefix": "del ",
     "library": "var_list.py",
     "varRefreshCmd": "print(var_dic_list())"
    },
    "r": {
     "delete_cmd_postfix": ") ",
     "delete_cmd_prefix": "rm(",
     "library": "var_list.r",
     "varRefreshCmd": "cat(var_dic_list()) "
    }
   },
   "types_to_exclude": [
    "module",
    "function",
    "builtin_function_or_method",
    "instance",
    "_Feature"
   ],
   "window_display": false
  }
 },
 "nbformat": 4,
 "nbformat_minor": 4
}
